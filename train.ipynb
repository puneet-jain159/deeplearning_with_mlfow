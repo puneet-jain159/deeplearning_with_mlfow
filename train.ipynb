{
 "cells": [
  {
   "cell_type": "code",
   "execution_count": 0,
   "metadata": {
    "application/vnd.databricks.v1+cell": {
     "cellMetadata": {
      "byteLimit": 2048000,
      "rowLimit": 10000
     },
     "inputWidgets": {},
     "nuid": "44d12eda-5c2c-4dd9-8e87-5fff19aaf243",
     "showTitle": false,
     "title": ""
    }
   },
   "outputs": [],
   "source": [
    "%pip install  -r requirements.txt"
   ]
  },
  {
   "cell_type": "code",
   "execution_count": 0,
   "metadata": {
    "application/vnd.databricks.v1+cell": {
     "cellMetadata": {
      "byteLimit": 2048000,
      "rowLimit": 10000
     },
     "inputWidgets": {},
     "nuid": "5b6d67b0-f6f0-4486-9d4f-eccb2093bce5",
     "showTitle": false,
     "title": ""
    }
   },
   "outputs": [],
   "source": [
    "dbutils.library.restartPython()"
   ]
  },
  {
   "cell_type": "code",
   "execution_count": 0,
   "metadata": {
    "application/vnd.databricks.v1+cell": {
     "cellMetadata": {
      "byteLimit": 2048000,
      "rowLimit": 10000
     },
     "inputWidgets": {},
     "nuid": "b46760b3-9e8b-4cbd-8186-5a98fe1141ed",
     "showTitle": false,
     "title": ""
    }
   },
   "outputs": [],
   "source": [
    "import gc\n",
    "import os\n",
    "from dataclasses import asdict, dataclass\n",
    "from os import PathLike\n",
    "from pathlib import Path\n",
    "\n",
    "import mlflow\n",
    "import torch\n",
    "from lightning import Trainer\n",
    "from lightning.pytorch.callbacks import EarlyStopping, ModelCheckpoint\n",
    "from lightning import LightningModule\n",
    "\n",
    "from custom_module.fine_tune_clsify_head import TransformerModule\n",
    "from data import LexGlueDataModule\n",
    "from torch.utils.data import DataLoader\n",
    "from datasets import Dataset"
   ]
  },
  {
   "cell_type": "code",
   "execution_count": 0,
   "metadata": {
    "application/vnd.databricks.v1+cell": {
     "cellMetadata": {
      "byteLimit": 2048000,
      "rowLimit": 10000
     },
     "inputWidgets": {},
     "nuid": "597d5725-e636-4805-8db2-15d1fc745104",
     "showTitle": true,
     "title": "Define Dataclass for Training Arguements"
    }
   },
   "outputs": [],
   "source": [
    "import os\n",
    "from dataclasses import dataclass, field\n",
    "from pathlib import Path\n",
    "\n",
    "\n",
    "@dataclass\n",
    "class TrainConfig:\n",
    "    pretrained_model: str = \"roberta-base\"\n",
    "    num_classes: int = 2\n",
    "    lr: float = 2e-4\n",
    "    max_length: int = 128\n",
    "    batch_size: int = 256\n",
    "    num_workers: int = os.cpu_count()\n",
    "    max_epochs: int = 10\n",
    "    debug_mode_sample: int | None = None\n",
    "    max_time: dict[str, float] = field(default_factory=lambda: {\"hours\": 3})\n",
    "    model_checkpoint_dir: str = os.path.join(\n",
    "        \"/local_disk0/tmp/logs\",\n",
    "        \"model-checkpoints\",\n",
    "    )\n",
    "    min_delta: float = 0.005\n",
    "    patience: int = 4\n"
   ]
  },
  {
   "cell_type": "code",
   "execution_count": 0,
   "metadata": {
    "application/vnd.databricks.v1+cell": {
     "cellMetadata": {
      "byteLimit": 2048000,
      "rowLimit": 10000
     },
     "inputWidgets": {},
     "nuid": "87259f9c-8b9f-4ffe-a0f3-1bc7d9718222",
     "showTitle": false,
     "title": ""
    }
   },
   "outputs": [],
   "source": [
    "torch.cuda.empty_cache()\n",
    "gc.collect()\n",
    "\n",
    "train_config = TrainConfig()\n",
    "\n",
    "nlp_model = TransformerModule(\n",
    "        pretrained_model=train_config.pretrained_model,\n",
    "        num_classes=train_config.num_classes,\n",
    "        lr=train_config.lr,\n",
    "    )\n",
    "datamodule = LexGlueDataModule(\n",
    "        pretrained_model=train_config.pretrained_model,\n",
    "        max_length=train_config.max_length,\n",
    "        batch_size=train_config.batch_size,\n",
    "        num_workers=train_config.num_workers,\n",
    "        debug_mode_sample=train_config.debug_mode_sample,\n",
    "    )\n"
   ]
  },
  {
   "cell_type": "code",
   "execution_count": 0,
   "metadata": {
    "application/vnd.databricks.v1+cell": {
     "cellMetadata": {
      "byteLimit": 2048000,
      "rowLimit": 10000
     },
     "inputWidgets": {},
     "nuid": "f1ad62b2-ac2f-49c5-a754-37929c994747",
     "showTitle": false,
     "title": ""
    }
   },
   "outputs": [],
   "source": [
    "\n",
    "mlflow.enable_system_metrics_logging()\n",
    "mlflow.pytorch.autolog(checkpoint_save_best_only = False)\n",
    "\n",
    "# Run the training loop.\n",
    "trainer = Trainer(\n",
    "    callbacks=[\n",
    "        EarlyStopping(\n",
    "            monitor=\"Val_F1_Score\",\n",
    "            min_delta=train_config.min_delta,\n",
    "            patience=train_config.patience,\n",
    "            verbose=True,\n",
    "            mode=\"max\",\n",
    "        )\n",
    "    ],\n",
    "    default_root_dir=train_config.model_checkpoint_dir,\n",
    "    fast_dev_run=bool(train_config.debug_mode_sample),\n",
    "    max_epochs=train_config.max_epochs,\n",
    "    max_time=train_config.max_time,\n",
    "    precision=\"32-true\"\n",
    ")\n",
    "trainer.fit(model=nlp_model, datamodule=datamodule)"
   ]
  },
  {
   "cell_type": "markdown",
   "metadata": {
    "application/vnd.databricks.v1+cell": {
     "cellMetadata": {
      "byteLimit": 2048000,
      "rowLimit": 10000
     },
     "inputWidgets": {},
     "nuid": "660b1185-e268-4d7b-95f8-9f875cf29393",
     "showTitle": false,
     "title": ""
    }
   },
   "source": [
    "# Let us check the best model"
   ]
  },
  {
   "cell_type": "code",
   "execution_count": 0,
   "metadata": {
    "application/vnd.databricks.v1+cell": {
     "cellMetadata": {
      "byteLimit": 2048000,
      "rowLimit": 10000
     },
     "inputWidgets": {},
     "nuid": "f53e55cc-633b-4146-8852-bbdfcd5e3282",
     "showTitle": false,
     "title": ""
    }
   },
   "outputs": [],
   "source": [
    "run_id = '634535f16f2c45feb900ae00011118dc'\n",
    "model = mlflow.pytorch.load_model(f\"runs:/{run_id}/model\")"
   ]
  },
  {
   "cell_type": "code",
   "execution_count": 0,
   "metadata": {
    "application/vnd.databricks.v1+cell": {
     "cellMetadata": {
      "byteLimit": 2048000,
      "rowLimit": 10000
     },
     "inputWidgets": {},
     "nuid": "9bbd4bb7-b202-41a2-8e50-9ec2b971f16c",
     "showTitle": false,
     "title": ""
    }
   },
   "outputs": [],
   "source": [
    "from transformers import AutoTokenizer\n",
    "tokenizer = AutoTokenizer.from_pretrained(\"roberta-base\")\n",
    "\n",
    "\n",
    "examples_to_test = [\"by creating a tinder account or by using the tinder imessage app ( `` tinder stacks '' ) , whether through a mobile device , mobile application or computer ( collectively , the `` service '' ) you agree to be bound by ( i ) these terms of use , ( ii ) our privacy policy and safety tips , each of which is incorporated by reference into this agreement , and ( iii ) any terms disclosed and agreed to by you if you purchase additional features , products or services we offer on the service ( collectively , this `` agreement '' ) .\",\n",
    "\"if you do not accept and agree to be bound by all of the terms of this agreement , please do not use the service .\"]"
   ]
  },
  {
   "cell_type": "code",
   "execution_count": 0,
   "metadata": {
    "application/vnd.databricks.v1+cell": {
     "cellMetadata": {
      "byteLimit": 2048000,
      "rowLimit": 10000
     },
     "inputWidgets": {},
     "nuid": "5464bde8-cfeb-4e22-8e5b-c294fb5350f2",
     "showTitle": false,
     "title": ""
    }
   },
   "outputs": [],
   "source": [
    "mlflow.pytorch.autolog(disable = True)"
   ]
  },
  {
   "cell_type": "code",
   "execution_count": 0,
   "metadata": {
    "application/vnd.databricks.v1+cell": {
     "cellMetadata": {
      "byteLimit": 2048000,
      "rowLimit": 10000
     },
     "inputWidgets": {},
     "nuid": "495d9e2f-9a8d-41c2-adb7-20f344d820b8",
     "showTitle": false,
     "title": ""
    }
   },
   "outputs": [],
   "source": [
    "predict = Trainer()\n",
    "tokens = tokenizer(examples_to_test,\n",
    "                  max_length=train_config.max_length,\n",
    "                  padding=\"max_length\",\n",
    "                  truncation=True)\n",
    "ds = Dataset.from_dict(dict(tokens))\n",
    "ds.set_format(\n",
    "            type=\"torch\", columns=[\"input_ids\", \"attention_mask\"]\n",
    "        )\n",
    "predict.predict(model ,dataloaders = DataLoader(ds))"
   ]
  },
  {
   "cell_type": "markdown",
   "metadata": {
    "application/vnd.databricks.v1+cell": {
     "cellMetadata": {
      "byteLimit": 2048000,
      "rowLimit": 10000
     },
     "inputWidgets": {},
     "nuid": "a557282d-14ad-4a21-ace9-1dfc1dc329e8",
     "showTitle": false,
     "title": ""
    }
   },
   "source": [
    "#Let us load a checkpoint and check it"
   ]
  },
  {
   "cell_type": "code",
   "execution_count": 0,
   "metadata": {
    "application/vnd.databricks.v1+cell": {
     "cellMetadata": {
      "byteLimit": 2048000,
      "rowLimit": 10000
     },
     "inputWidgets": {},
     "nuid": "049fc863-fa67-467e-9ba3-3cc607cbab55",
     "showTitle": false,
     "title": ""
    }
   },
   "outputs": [],
   "source": [
    "model = mlflow.pytorch.load_checkpoint(TransformerModule,run_id,3)\n",
    "predict.predict(model ,dataloaders = DataLoader(ds))"
   ]
  },
  {
   "cell_type": "code",
   "execution_count": 0,
   "metadata": {
    "application/vnd.databricks.v1+cell": {
     "cellMetadata": {},
     "inputWidgets": {},
     "nuid": "962de76f-f2cf-4ff6-b2b1-de100e9abb4d",
     "showTitle": false,
     "title": ""
    }
   },
   "outputs": [],
   "source": []
  }
 ],
 "metadata": {
  "application/vnd.databricks.v1+notebook": {
   "dashboards": [],
   "language": "python",
   "notebookMetadata": {
    "pythonIndentUnit": 2
   },
   "notebookName": "train",
   "widgets": {}
  }
 },
 "nbformat": 4,
 "nbformat_minor": 0
}
